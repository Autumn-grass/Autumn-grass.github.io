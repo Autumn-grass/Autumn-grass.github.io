{
 "cells": [
  {
   "cell_type": "markdown",
   "metadata": {},
   "source": [
    "# Problem 1"
   ]
  },
  {
   "cell_type": "markdown",
   "metadata": {},
   "source": [
    "Suppose $(x_{1}, y_{1}), (x_{2}, y_{2}), \\cdots, (x_{n}, y_{n}) \\in \\mathbb{R} \\times \\{0,1\\}$. Set\n",
    "\\begin{equation*}\n",
    "\\begin{split}\n",
    "\\sigma(t) &= \\frac{1}{1 + e^{-t}}\n",
    "\\\\ p_{i}(a, b) &= \\sigma(a + b x_{i})^{y_{i}} (1 - \\sigma(a + b x_{i}))^{1 -y_{i}} \n",
    "\\\\ l_{i}(a, b) &= -\\log p_{i}(a, b)\n",
    "\\\\ &= -y_{i} \\log (\\sigma(a + b x_{i})) - (1 - y_{i}) \\log((1 - \\sigma(a + b x_{i})))\n",
    "\\\\ l(a, b) &= \\sum_{i=1}^{n} l_{i}(a , b)\n",
    "\\end{split}\n",
    "\\end{equation*}\n"
   ]
  },
  {
   "cell_type": "markdown",
   "metadata": {},
   "source": [
    "## (a) "
   ]
  },
  {
   "cell_type": "markdown",
   "metadata": {},
   "source": [
    "\\textbf{Proof:} \n",
    "\\begin{equation*}\n",
    "\\begin{split}\n",
    "\\sigma(x) & = \\frac{1}{1 + e^{-x}} = (1 + e^{-x})^{-1}\n",
    "\\\\ \\sigma '(x) &= (-1) (1 + e^{-x})^{-2} (0 + e^{-x}(-1))\n",
    "\\\\ &=\\frac{e^{-x}}{(1 + e^{-x})^{2}}\n",
    "\\\\ \\sigma(x) (1 - \\sigma(x)) &= \\frac{1}{1+e^{-x}} \\left( 1 - \\frac{1}{1+e^{-x}}\\right) \n",
    "\\\\& = \\frac{1}{1+e^{-x}} \\left( \\frac{1+e^{-x} - 1}{1+e^{-x}}\\right) \n",
    "\\\\& = \\frac{e^{-x}}{(1 + e^{-x})^{2}}\n",
    "\\end{split}\n",
    "\\end{equation*}\n",
    "\n",
    "Therefore, we proved that $\\sigma '(x)  = \\sigma(x) (1 - \\sigma(x))$.\n"
   ]
  },
  {
   "cell_type": "markdown",
   "metadata": {},
   "source": [
    "## (b)"
   ]
  },
  {
   "cell_type": "markdown",
   "metadata": {},
   "source": [
    "To get the $\\bigtriangledown l_{i}(a, b)$, we derive $\\frac{\\partial l_{i}(a,b)}{\\partial a}$ and $\\frac{\\partial l_{i}(a,b)}{\\partial b}$ respectively.\n",
    "\n",
    "\\begin{equation*}\n",
    "\\begin{split} \n",
    "\\frac{\\partial l_{i}(a,b)}{\\partial a} &= -y_{i} \\frac{\\sigma'(a + bx_{i})}{\\sigma(a + bx_{i})}\\frac{\\partial (a + bx_{i})}{\\partial a} - (1 - y_{i})\\frac{-\\sigma'(a + bx_{i})}{1 - \\sigma(a + bx_{i})}\\frac{\\partial (a + bx_{i})}{\\partial a}\n",
    "\\\\& = -y_{i}\\frac{\\sigma(a + bx_{i})(1 - \\sigma(a + bx_{i}))}{\\sigma(a + bx_{i})} + (1 - y_{i})\\frac{\\sigma(a + bx_{i})(1 - \\sigma(a + bx_{i}))}{1 - \\sigma(a + bx_{i})}\n",
    "\\\\& = -y_{i}(1 - \\sigma(a + bx_{i})) + (1 - y_{i}) \\sigma(a + bx_{i})\n",
    "\\\\& = \\sigma(a + bx_{i}) - y_{i}\n",
    "\\end{split}\n",
    "\\end{equation*}\n",
    "\n",
    "\\begin{equation*}\n",
    "\\begin{split} \n",
    "\\frac{\\partial l_{i}(a,b)}{\\partial b} &= -y_{i} \\frac{\\sigma'(a + bx_{i})}{\\sigma(a + bx_{i})}\\frac{\\partial (a + bx_{i})}{\\partial b} - (1 - y_{i})\\frac{-\\sigma'(a + bx_{i})}{1 - \\sigma(a + bx_{i})}\\frac{\\partial (a + bx_{i})}{\\partial b}\n",
    "\\\\& = -y_{i}\\frac{\\sigma(a + bx_{i})(1 - \\sigma(a + bx_{i}))}{\\sigma(a + bx_{i})}x_{i} + (1 - y_{i})\\frac{\\sigma(a + bx_{i})(1 - \\sigma(a + bx_{i}))}{1 - \\sigma(a + bx_{i})}x_{i}\n",
    "\\\\& = -y_{i}(1 - \\sigma(a + bx_{i}))x_{i} + (1 - y_{i}) \\sigma(a + bx_{i})x_{i}\n",
    "\\\\& = [\\sigma(a + bx_{i}) -  y_{i}]x_{i}\n",
    "\\end{split}\n",
    "\\end{equation*}\n",
    "\n",
    "Then, \\begin{equation*}\n",
    "\\begin{split}\n",
    "\\bigtriangledown l_{i}(a, b) &= \\begin{pmatrix}\n",
    "\\frac{\\partial l_{i}(a,b)}{\\partial a}\\\\ \n",
    "\\frac{\\partial l_{i}(a,b)}{\\partial b}\n",
    "\\end{pmatrix}\n",
    "\\\\& = \\begin{pmatrix}\n",
    " \\sigma(a + bx_{i}) - y_{i}\\\\ \n",
    "[\\sigma(a + bx_{i}) - y_{i}]x_{i}\n",
    "\\end{pmatrix}\n",
    "\\\\& = (\\sigma(a + bx_{i}) - y_{i}) \\begin{pmatrix}\n",
    "1\\\\ \n",
    "x_{i}\n",
    "\\end{pmatrix} \n",
    "\\end{split}\n",
    "\\end{equation*}\n",
    "\n",
    "And \n",
    "\\begin{equation*}\n",
    "\\begin{split} \n",
    "\\bigtriangledown ^{2} l_{i}(a, b) &= \\begin{pmatrix}\n",
    "\\frac{\\partial ^{2} l_{i}(a,b)}{\\partial a^{2}} & \\frac{\\partial ^{2} l_{i}(a,b)}{\\partial a \\partial b}\\\\  \n",
    "\\frac{\\partial ^{2} l_{i}(a,b)}{\\partial b \\partial a} & \\frac{\\partial ^{2} l_{i}(a,b)}{\\partial b^{2}}\n",
    "\\end{pmatrix}\n",
    "\\\\& = \\begin{pmatrix}\n",
    " \\sigma'(a + bx_{i})  &   \\sigma'(a + bx_{i}) x_{i}\\\\\n",
    " \\sigma'(a + bx_{i}) x_{i}  &   \\sigma'(a + bx_{i}) x_{i}^{2}\n",
    "\\end{pmatrix}\n",
    "\\\\& =  \\sigma'(a + bx_{i}) \\begin{pmatrix}\n",
    "1 & x_{i}\\\\ \n",
    "x_{i} & x_{i}^{2}\n",
    "\\end{pmatrix}\n",
    "\\end{split}\n",
    "\\end{equation*}"
   ]
  },
  {
   "cell_type": "markdown",
   "metadata": {},
   "source": [
    "Now we are going to prove $\\bigtriangledown ^{2} g$ is positive-semidefinite but not positive-definite, making\n",
    "$g(a, b)$ convex but not strictly convex. First, show the following proposition.\n",
    "\n",
    "\\textbf{[Proposition 1]}\n",
    "\n",
    "Assume that $g : \\mathbb{R}^{2} \\mapsto \\mathbb{R}$ is differentiable, for every $\\mathbf{x}$ and $\\mathbf{y}$, if the inequality\n",
    "$$g(\\mathbf{y}) \\geqslant g(\\mathbf{x}) +\\bigtriangledown ^{2} g(\\mathbf{x}) (\\mathbf{y} - \\mathbf{x})$$\n",
    "is satisfied, then $g$ is convex.\n",
    "\n",
    "\\textbf{Proof}:\n",
    "\n",
    "Let $\\mathbf{w}$, $\\mathbf{z} \\in \\mathbb{R}^{2}$, and $0 \\leqslant \\lambda \\leqslant 1$. Denote $\\mathbf{x} := \\lambda \\mathbf{w} + (1 - \\lambda)\\mathbf{z}$. Then the inequality implies \n",
    "\\begin{equation} \\label{inequality}\n",
    "g(\\mathbf{w}) \\geqslant g(\\mathbf{x}) +\\bigtriangledown ^{2} g(\\mathbf{x}) (\\mathbf{w} - \\mathbf{x})\\\\\n",
    "g(\\mathbf{z}) \\geqslant g(\\mathbf{x}) +\\bigtriangledown ^{2} g(\\mathbf{x}) (\\mathbf{z} - \\mathbf{x})\n",
    "\\end{equation}\n",
    "\n",
    "Note that \n",
    "\\begin{equation*}\n",
    "\\mathbf{w} - \\mathbf{x} = (1 - \\lambda) (\\mathbf{w} - \\mathbf{z})\\\\\n",
    "\\mathbf{z} - \\mathbf{x} = \\lambda (\\mathbf{z} - \\mathbf{w})\n",
    "\\end{equation*}\n",
    "\n",
    "We multiply the first line in \\ref{inequality} with $\\lambda$ and the second line with $1 - \\lambda$, and then add the two inequality in \\ref{inequality} together, we obtain\n",
    "\\begin{equation*}\n",
    "\\begin{split}\n",
    "\\lambda g(\\mathbf{w}) + (1 - \\lambda) g(\\mathbf{z}) &\\geqslant g (\\mathbf{x}) + \\lambda \\bigtriangledown^{\\top} g(\\mathbf{x})(1 - \\lambda)(\\mathbf{w} - \\mathbf{z}) + \\lambda \\bigtriangledown^{\\top} g(\\mathbf{x})(1 - \\lambda)(\\mathbf{z} - \\mathbf{w})\n",
    "\\\\ &= g(\\lambda \\mathbf{w} + (1 - \\lambda)\\mathbf{z})\n",
    "\\end{split}\n",
    "\\end{equation*}\n",
    "Since $\\mathbf{w}$ and $\\mathbf{z}$ are arbitrary, this proves $g$ is a convex function.\n",
    "\n",
    "$\\square$"
   ]
  },
  {
   "cell_type": "markdown",
   "metadata": {},
   "source": [
    "\\textbf{[Proposition 2]}\n",
    "\n",
    "Now deduce that $\\bigtriangledown ^{2} g$ is positive-semidefinite but not positive-definite, making\n",
    "$g(a, b)$ convex but not strictly convex.\n",
    "\n",
    "\\textbf{Proof}:\n",
    "\n",
    "Now assume the Hessian $\\bigtriangledown ^{2} g$ is positive-semidefinite for all $\\mathbf{x} \\in \\mathbb{R}^{2}$. Then $\\forall \\mathbf{x}$ and $\\mathbf{y} \\in \\mathbb{R}^{2}$, the Taylor's theorem implies that\n",
    "\\begin{equation*}\n",
    "g(\\mathbf{y}) = g(\\mathbf{x}) + \\bigtriangledown ^{\\top} g(\\mathbf{x})(\\mathbf{y} - \\mathbf{x}) +\\frac{1}{2}(\\mathbf{y} - \\mathbf{x})^{\\top}\\bigtriangledown ^{2} g(t\\mathbf{x} + (1-t)\\mathbf{y}) (\\mathbf{y} - \\mathbf{x})\n",
    "\\end{equation*}\n",
    "for some $0 \\leqslant t \\leqslant 1$. Since $\\bigtriangledown ^{2} g$ is everywhere positive semi-definite, the quadratic\n",
    "term in this equation is always non-negative. Thus we can estimate\n",
    "\\begin{equation*}\n",
    "g(\\mathbf{y}) \\geqslant g(\\mathbf{x}) + \\bigtriangledown ^{\\top} g(\\mathbf{x})(\\mathbf{y} - \\mathbf{x})\n",
    "\\end{equation*}\n",
    "By \\textbf{proposition 1}, $g$ is convex but not strictly convex.\n",
    "\n",
    "$\\square$"
   ]
  },
  {
   "cell_type": "markdown",
   "metadata": {},
   "source": [
    "Or we can use \\textbf{Theorem} directly , see Sydsaeter and Hammond (1995), Theorems 17.13 (p. 640).\n",
    "\n",
    "\\begin{theorem}\n",
    "Let $z = f(\\mathbf{x})$ be a $C^{2}$ function in an open convex set $S$ in $R^{n}$. If $H(\\mathbf{x})$ denotes the Hessian matrix of f,then:\n",
    "\n",
    "$f$ is convex $\\Leftrightarrow$ $H(\\mathbf{x})$ is positive semidefinite for all $\\mathbf{x} \\in S$.\n",
    "\\end{theorem}\n"
   ]
  },
  {
   "cell_type": "markdown",
   "metadata": {},
   "source": [
    "## (c)"
   ]
  },
  {
   "cell_type": "markdown",
   "metadata": {},
   "source": [
    "From (b), we have \n",
    "\\begin{equation*}\n",
    "\\bigtriangledown ^{2} l_{i}(a, b) = \n",
    "\\begin{pmatrix}\n",
    " \\sigma'(a + bx_{i})  &   \\sigma'(a + bx_{i}) x_{i}\\\\\n",
    " \\sigma'(a + bx_{i}) x_{i}  &   \\sigma'(a + bx_{i}) x_{i}^{2}\n",
    "\\end{pmatrix}\n",
    "\\end{equation*}\n",
    "\n",
    "Based on the definition of null space, let $\\bigtriangledown ^{2} l_{i}(a, b) (m_{i}, n_{i})^{\\top} = (0, 0)^{\\top}$, we have \n",
    "\n",
    "\\begin{equation*}\n",
    "\\left\\{\\begin{matrix}\n",
    " \\sigma'(a + bx_{i}) m_{i} + \\sigma'(a + bx_{i}) x_{i} n_{i} = 0 & (1)\\\\ \n",
    " \\sigma'(a + bx_{i}) x_{i} m_{i} + \\sigma'(a + bx_{i}) x_{i}^{2} n_{i} = 0 & (2) \n",
    "\\end{matrix}\\right.\n",
    "\\end{equation*}\n",
    "\n",
    " From (1), we have $m_{i} = -x_{i}n_{i}$. Let $n_{i} = 1$, then $m_{i} = -x_{i}$. Normalize $n$ and $m$, we have \n",
    " \\begin{equation*}\n",
    " \\begin{split}\n",
    "n_{i0} &= \\frac{1}{\\sqrt{x_{i}^{2}+1}}\n",
    "\\\\ m_{i0}& = -\\frac{x_{i}}{\\sqrt{x_{i}^{2}+1}}\n",
    "\\end{split}\n",
    "\\end{equation*}\n",
    "\n",
    "Therefore, a basis of the null space $N(\\bigtriangledown ^{2} l_{i}(a, b))$ is \n",
    "\\begin{equation*}\n",
    "\\begin{pmatrix}\n",
    "-\\frac{x_{i}}{\\sqrt{x_{i}^{2}+1}}\\\\\n",
    "\\frac{1}{\\sqrt{x_{i}^{2}+1}}\n",
    "\\end{pmatrix}\n",
    "\\end{equation*}\n",
    "\n",
    "Moreover, we can write the null space as \n",
    "\\begin{equation*}\n",
    "N(\\bigtriangledown ^{2} l_{i}(a, b)) = \\left\\{ (m_{i}, n_{i})^{\\top} : m_{i} =  -\\frac{x_{i}}{\\sqrt{x_{i}^{2}+1}} t_{i}, n_{i} = \\frac{1}{\\sqrt{x_{i}^{2}+1}}t_{i}, \\text{$t_{i}$ is any value and $t_{i} \\in \\mathbb{R} $ } \\right\\}\n",
    "\\end{equation*}\n"
   ]
  },
  {
   "cell_type": "markdown",
   "metadata": {},
   "source": [
    "## (d)"
   ]
  },
  {
   "cell_type": "markdown",
   "metadata": {},
   "source": [
    "Note that $N(\\bigtriangledown ^{2} l_{i}(a, b)) = \\left\\{ (m_{i}, n_{i})^{\\top} : m_{i} =  -\\frac{x_{i}}{\\sqrt{x_{i}^{2}+1}} t_{i}, n_{i} = \\frac{1}{\\sqrt{x_{i}^{2}+1}}t_{i}, t_{i} \\in \\mathbb{R} \\right\\}$, then,\n",
    "\n",
    "\\begin{equation*}\n",
    "\\begin{split}\n",
    "\\bigcap_{i=1}^{n} N(\\bigtriangledown ^{2} l_{i}(a, b)) &= \\left \\{ \\left \\{ \\begin{pmatrix}\n",
    "-\\frac{x_{1}}{\\sqrt{x_{1}^{2}+1}}t_{1}\\\\\n",
    "\\frac{1}{\\sqrt{x_{1}^{2}+1}}t_{1}\n",
    "\\end{pmatrix}   \\right\\} \\bigcap \\left \\{ \\begin{pmatrix}\n",
    "-\\frac{x_{2}}{\\sqrt{x_{2}^{2}+1}}t_{2}\\\\\n",
    "\\frac{1}{\\sqrt{x_{2}^{2}+1}}t_{2}\n",
    "\\end{pmatrix}   \\right\\} \\bigcap  \\cdots \\bigcap\n",
    "\\left \\{ \\begin{pmatrix}\n",
    "-\\frac{x_{n}}{\\sqrt{x_{n}^{2}+1}}t_{n}\\\\\n",
    "\\frac{1}{\\sqrt{x_{n}^{2}+1}}t_{n}\n",
    "\\end{pmatrix}   \\right\\}\\right\\}\n",
    "\\\\& = \\left \\{  \\begin{pmatrix}\n",
    "0\\\\ \n",
    "0\n",
    "\\end{pmatrix}\\right \\}\n",
    "\\end{split}\n",
    "\\end{equation*}\n",
    "\n",
    "Since when $x_{i} \\neq x_{j}$, then\n",
    "\\begin{equation*}\n",
    " \\begin{pmatrix}\n",
    "-\\frac{x_{i}}{\\sqrt{x_{i}^{2}+1}}\\\\\n",
    "\\frac{1}{\\sqrt{x_{i}^{2}+1}}\n",
    "\\end{pmatrix} \\neq  \\begin{pmatrix}\n",
    "-\\frac{x_{j}}{\\sqrt{x_{j}^{2}+1}}\\\\\n",
    "\\frac{1}{\\sqrt{x_{j}^{2}+1}}\n",
    "\\end{pmatrix}\n",
    "\\end{equation*}\n",
    "\n",
    "\n",
    "Now we are going to prove that \\begin{equation*}\n",
    "\\begin{pmatrix}\n",
    "-\\frac{x_{i}}{\\sqrt{x_{i}^{2}+1}}t_{i}\\\\\n",
    "\\frac{1}{\\sqrt{x_{i}^{2}+1}}t_{i}\n",
    "\\end{pmatrix} =  \\begin{pmatrix}\n",
    "-\\frac{x_{j}}{\\sqrt{x_{j}^{2}+1}}t_{j}\\\\\n",
    "\\frac{1}{\\sqrt{x_{j}^{2}+1}}t_{j}\n",
    "\\end{pmatrix}\n",
    "\\end{equation*}\n",
    "only when they are $0$ vector.\n",
    "\n",
    "If $-\\frac{x_{i}}{\\sqrt{x_{i}^{2}+1}}t_{i} = -\\frac{x_{j}}{\\sqrt{x_{j}^{2}+1}}t_{j} \\neq 0$, then we have $t_{i} = \\frac{x_{j}}{\\sqrt{x_{j}^{2}+1}} \\frac{\\sqrt{x_{i}^{2}+1}}{x_{i}}t_{j}$. Plug this $t_{i}$ into $\\frac{1}{\\sqrt{x_{i}^{2}+1}}t_{i}$, we have $\\frac{1}{\\sqrt{x_{i}^{2}+1}}t_{i} = \\frac{1}{\\sqrt{x_{i}^{2}+1}}\\frac{x_{j}}{\\sqrt{x_{j}^{2}+1}} \\frac{\\sqrt{x_{i}^{2}+1}}{x_{i}}t_{j} = \\frac{x_{j}}{x_{i}\\sqrt{x_{j}^{2}+1}}t_{j} \\neq \\frac{1}{\\sqrt{x_{j}^{2}+1}}t_{j}$. Therefore, we can not find $t_{i}$ and $t_{j}$ such that \\begin{equation*}\n",
    "\\begin{pmatrix}\n",
    "-\\frac{x_{i}}{\\sqrt{x_{i}^{2}+1}}t_{i}\\\\\n",
    "\\frac{1}{\\sqrt{x_{i}^{2}+1}}t_{i}\n",
    "\\end{pmatrix} =  \\begin{pmatrix}\n",
    "-\\frac{x_{j}}{\\sqrt{x_{j}^{2}+1}}t_{j}\\\\\n",
    "\\frac{1}{\\sqrt{x_{j}^{2}+1}}t_{j} \n",
    "\\end{pmatrix} \\neq 0\n",
    "\\end{equation*}"
   ]
  },
  {
   "cell_type": "markdown",
   "metadata": {},
   "source": [
    "## (e)"
   ]
  },
  {
   "cell_type": "markdown",
   "metadata": {},
   "source": [
    "From (b) we have \n",
    "\\begin{equation*}\n",
    "\\bigtriangledown ^{2} l_{i}(a, b) = \n",
    "\\begin{pmatrix}\n",
    " \\sigma'(a + bx_{i})  &   \\sigma'(a + bx_{i}) x_{i}\\\\\n",
    " \\sigma'(a + bx_{i}) x_{i}  &   \\sigma'(a + bx_{i}) x_{i}^{2}\n",
    "\\end{pmatrix}\n",
    "\\end{equation*}\n",
    "\n",
    "Then $\\forall \\mathbf{s} = (s_{1}, s_{2})^{\\top} \\neq 0$, we have \n",
    "\\begin{equation*}\n",
    "\\begin{split}\n",
    "\\mathbf{s}^{\\top} \\bigtriangledown ^{2} l_{i}(a, b) \\mathbf{s} &= (s_{1}, s_{2}) \\begin{pmatrix}\n",
    " \\sigma'(a + bx_{i})  &   \\sigma'(a + bx_{i}) x_{i}\\\\\n",
    " \\sigma'(a + bx_{i}) x_{i}  &   \\sigma'(a + bx_{i}) x_{i}^{2}\n",
    "\\end{pmatrix} \\begin{pmatrix}\n",
    "s1\\\\ \n",
    "s2\n",
    "\\end{pmatrix}\n",
    "\\\\& = \\left(s_{1}\\sigma'(a + bx_{i})+ s_{2} \\sigma'(a + bx_{i}) x_{i}\n",
    ", s_{1}\\sigma'(a + bx_{i}) x_{i} + s_{2}\\sigma'(a + bx_{i}) x_{i}^{2} \\right) \\begin{pmatrix}\n",
    "s1\\\\ \n",
    "s2\n",
    "\\end{pmatrix}\n",
    "\\\\& = s_{1}^{2}\\sigma'(a + bx_{i})+ s_{2}s_{1} \\sigma'(a + bx_{i}) x_{i} + s_{1}s_{2}\\sigma'(a + bx_{i}) x_{i} + s_{2}^{2}\\sigma'(a + bx_{i}) x_{i}^{2}\n",
    "\\\\& = s_{1}^{2}\\sigma'(a + bx_{i}) + 2 s_{1}s_{2}\\sigma'(a + bx_{i}) x_{i} + s_{2}^{2}\\sigma'(a + bx_{i}) x_{i}^{2}\n",
    "\\\\& = \\sigma'(a + bx_{i}) (s_{1} + s_{2}x_{i})^{2}\n",
    "\\\\& > 0\n",
    "\\end{split}\n",
    "\\end{equation*}\n",
    "Thus we have $\\bigtriangledown ^{2} l_{i}(a, b)$ is positive definite. Since $\\bigtriangledown ^{2} l(a, b) = \\sum_{i=1}^{n}\\bigtriangledown ^{2} l_{i}(a, b)$, therefore, $\\bigtriangledown ^{2} l(a, b)$ is also positive definite, since \n",
    "\\begin{equation*}\n",
    "\\mathbf{s}^{\\top} \\bigtriangledown ^{2} l(a, b) \\mathbf{s} = \\sum_{i=1}^{n} \\mathbf{s}^{\\top} \\bigtriangledown ^{2} l_{i}(a, b) \\mathbf{s}>0\n",
    "\\end{equation*}\n",
    "\n",
    "Then by the result in (b), $l(a,b)$ is a convex function."
   ]
  },
  {
   "cell_type": "markdown",
   "metadata": {},
   "source": [
    "## (f)"
   ]
  },
  {
   "cell_type": "markdown",
   "metadata": {},
   "source": [
    "From (e), for $x_{i} \\neq x_{j}$, we have $l(a, b)$ is a convex function. Suppose there are two optimal solutions $\\mathbf{\\omega} = (a_{1}, b_{1})^{\\top}$, $\\mathbf{\\nu} = (a_{2}, b_{2})^{\\top} \\in \\mathbb{R^{2}}$ s.t. \n",
    "\n",
    "\\begin{equation} \\label{l_function}\n",
    "l(\\mathbf{\\omega}) \\leqslant l(\\mathbf{z}), \\  l(\\mathbf{\\nu}) \\leqslant l(\\mathbf{z}), \\\n",
    "\\forall \\mathbf{z} \\in \\mathbb{R}^{2}\n",
    "\\end{equation}\n",
    "Let $\\mathbf{z} = \\frac{\\omega + \\nu}{2}$, by convexity of function $l(a, b)$, we have \n",
    "\\begin{equation} \\label{l_inequality}\n",
    "\\begin{split}\n",
    "l(\\mathbf{z}) = l(\\frac{\\omega + \\nu}{2}) &= l(\\frac{1}{2}\\omega + \\frac{1}{2} \\nu)\n",
    "\\\\& \\leqslant \\frac{1}{2}l(\\omega) + \\frac{1}{2}l( \\nu)\n",
    "\\\\& \\leqslant \\frac{1}{2}l(\\omega) +  \\frac{1}{2}l(\\omega)\n",
    "\\\\& = l(\\omega)\n",
    "\\end{split}\n",
    "\\end{equation}\n",
    "\n",
    "But this contradicts with \\ref{l_function}. Therefore, the minimizer of $l(a, b)$ is unique, which means the maximize likelihood estimates $\\hat{a}$, $\\hat{b}$ of function $-l(a, b)$ is unique. \n",
    "Note that the second inequality above is because the $\\nu$ is arbitrary so we can take $\\nu = \\omega$."
   ]
  },
  {
   "cell_type": "markdown",
   "metadata": {},
   "source": [
    "# Problem 2"
   ]
  },
  {
   "cell_type": "markdown",
   "metadata": {},
   "source": [
    "## （a）"
   ]
  },
  {
   "cell_type": "markdown",
   "metadata": {},
   "source": [
    "\\textbf{Proof}:\n",
    "\n",
    "We have \n",
    "\\begin{equation*}\n",
    "\\begin{split}\n",
    "\\\\ \\sigma '(x) &= (-1) (1 + e^{-x})^{-2} (0 + e^{-x}(-1))\n",
    "\\\\ &=\\frac{e^{-x}}{(1 + e^{-x})^{2}}\n",
    "\\\\ & = \\sigma(x) (1 - \\sigma(x))\n",
    "\\\\& > 0\n",
    "\\end{split}\n",
    "\\end{equation*}\n",
    "Then $\\sigma(x)$ is increasing. Take $x$ approximate to $-\\infty$ and $\\infty$, we can get the range of \n",
    "\\begin{equation*}\n",
    "\\sigma(x) = \\frac{1}{1 + e^{-x}} \\in (0,1)\n",
    "\\end{equation*}\n",
    "\n",
    "Secondly, $\\log(x)$ is also increasing in $(0, \\infty)$. Specifically, $\\log(1) = 0$. Therefore, the range of $\\log(x)$ in $(0,1)$ is $(-\\infty, 0)$.\n",
    "\n",
    "Since \n",
    "\\begin{equation*}\n",
    "\\begin{split}\n",
    "l_{i}(a, b) &= -\\log p_{i}(a, b)\n",
    "\\\\ &= -y_{i} \\log (\\sigma(a + b x_{i})) - (1 - y_{i}) \\log(1 - \\sigma(a + b x_{i}))\n",
    "\\end{split}\n",
    "\\end{equation*}\n",
    "\n",
    "For $y_{i} = 0$, we have $l_{i}(a, b) = - \\log(1 - \\sigma(a + b x_{i})) \\in (0, \\infty)$, since $1 - \\sigma(a + b x_{i}) \\in (0,1)$.\n",
    "\n",
    "For $y_{i} = 1$, we have $l_{i}(a, b) = - \\log (\\sigma(a + b x_{i})) \\in (0, \\infty)$, since $\\sigma(a + b x_{i}) \\in (0,1)$.\n",
    "\n",
    "From the above, $l_{i}(a, b) > 0$ for all $(a, b) \\in \\mathbb{R}^{2}$."
   ]
  },
  {
   "cell_type": "markdown",
   "metadata": {},
   "source": [
    "## (b)"
   ]
  },
  {
   "cell_type": "markdown",
   "metadata": {},
   "source": [
    "We have \n",
    "\\begin{equation*}\n",
    "\\begin{split}\n",
    "l_{i}(t v_{1}, t v_{2}) = -y_{i} \\log (\\sigma(t v_{1} + t v_{2} x_{i})) - (1 - y_{i}) \\log(1 - \\sigma(t v_{1} + t v_{2} x_{i}))\n",
    "\\end{split}\n",
    "\\end{equation*}\n",
    "\n",
    "When $y_{i} = 0$, $l_{i}(t v_{1}, t v_{2}) =  - \\log(1 - \\sigma(t v_{1} + t v_{2} x_{i}))$, then\n",
    "\\begin{equation*}\n",
    "\\begin{split}\n",
    "H_{i} &= \\{(v_{1}, v_{2})^{\\top} \\in \\mathbb{R}^{2} : \\lim_{t \\to \\infty} l_{i}(t v_{1}, t v_{2}) = \\infty \\} \n",
    "\\\\& = \\{(v_{1}, v_{2})^{\\top} \\in \\mathbb{R}^{2} : \\lim_{t \\to \\infty} [-\\log(1 - \\sigma(t v_{1} + t v_{2}x_{i}))] = \\infty \\} \n",
    "\\\\& = \\{(v_{1}, v_{2})^{\\top} \\in \\mathbb{R}^{2} : \\lim_{t \\to \\infty} (1 - \\sigma(t v_{1} + t v_{2}x_{i})) = 0 \\}\n",
    "\\\\& = \\{(v_{1}, v_{2})^{\\top} \\in \\mathbb{R}^{2} : \\lim_{t \\to \\infty} (\\sigma(t v_{1} + t v_{2}x_{i})) = 1 \\} \n",
    "\\\\& = \\{(v_{1}, v_{2})^{\\top} \\in \\mathbb{R}^{2} : \\lim_{t \\to \\infty} t (v_{1} +  v_{2}x_{i}) = \\infty  \\}\n",
    "\\\\& = \\{(v_{1}, v_{2})^{\\top} \\in \\mathbb{R}^{2} :  v_{1} +  v_{2}x_{i} > 0 \\}\n",
    "\\\\& = \\{(v_{1}, v_{2})^{\\top} \\in \\mathbb{R}^{2} :  (v_{1}, v_{2}) \\cdot (1, x_{i})^{\\top} > 0  \\}\n",
    "\\\\& = H(w_{i})\n",
    "\\end{split}\n",
    "\\end{equation*}\n",
    "where $w_{i} = (1, x_{i})^{\\top}$.\n",
    "\n",
    "When $y_{i} = 1$, $l_{i}(t v_{1}, t v_{2}) =  - \\log(\\sigma(t v_{1} + t v_{2} x_{i}))$, then\n",
    "\\begin{equation*}\n",
    "\\begin{split}\n",
    "H_{i} &= \\{(v_{1}, v_{2})^{\\top} \\in \\mathbb{R}^{2} : \\lim_{t \\to \\infty} l_{i}(t v_{1}, t v_{2}) = \\infty \\} \n",
    "\\\\& = \\{(v_{1}, v_{2})^{\\top} \\in \\mathbb{R}^{2} : \\lim_{t \\to \\infty} [-\\log(\\sigma(t v_{1} + t v_{2}x_{i}))] = \\infty \\} \n",
    "\\\\& = \\{(v_{1}, v_{2})^{\\top} \\in \\mathbb{R}^{2} : \\lim_{t \\to \\infty} \\sigma(t v_{1} + t v_{2}x_{i}) = 0 \\}\n",
    "\\\\& = \\{(v_{1}, v_{2})^{\\top} \\in \\mathbb{R}^{2} : \\lim_{t \\to \\infty} t (v_{1} +  v_{2}x_{i}) = - \\infty  \\}\n",
    "\\\\& = \\{(v_{1}, v_{2})^{\\top} \\in \\mathbb{R}^{2} :  v_{1} +  v_{2}x_{i} < 0 \\}\n",
    "\\\\& = \\{(v_{1}, v_{2})^{\\top} \\in \\mathbb{R}^{2} :  - v_{1} -  v_{2}x_{i} > 0  \\}\n",
    "\\\\& = \\{(v_{1}, v_{2})^{\\top} \\in \\mathbb{R}^{2} :  (v_{1}, v_{2}) \\cdot (-1, -x_{i})^{\\top} > 0 \\}\n",
    "\\\\& = H(w_{i})\n",
    "\\end{split}\n",
    "\\end{equation*}\n",
    "where $w_{i} = (-1, -x_{i})^{\\top}$.\n",
    "\n",
    "In conclusion, $w_{i} = (-1)^{y_{i}}\\cdot(1, x_{i})^{\\top}$."
   ]
  },
  {
   "cell_type": "markdown",
   "metadata": {},
   "source": [
    "## (c)"
   ]
  },
  {
   "cell_type": "code",
   "execution_count": 2,
   "metadata": {},
   "outputs": [
    {
     "data": {
      "text/plain": [
       "<matplotlib.legend.Legend at 0x1ce3bbd6cf8>"
      ]
     },
     "execution_count": 2,
     "metadata": {},
     "output_type": "execute_result"
    },
    {
     "data": {
      "image/png": "[encoded data removed]",
      "text/plain": [
       "<Figure size 288x288 with 1 Axes>"
      ]
     },
     "metadata": {},
     "output_type": "display_data"
    }
   ],
   "source": [
    "from matplotlib import pyplot as plt\n",
    "import pandas as pd\n",
    "import numpy as np\n",
    "import mpl_toolkits.axisartist as axisartist\n",
    "\n",
    "#create blank figure\n",
    "fig = plt.figure(figsize=(4, 4))\n",
    "# use axisartist.Subplot to create a painting object ax\n",
    "ax = axisartist.Subplot(fig, 111)  \n",
    "#add this object ax into blank gigure\n",
    "fig.add_axes(ax)\n",
    "\n",
    "#use set_visibleto hidden x-axis, y-axis\n",
    "ax.axis[:].set_visible(False)\n",
    "\n",
    "#use ax.new_floating_axis to add new x-axis, y-axis\n",
    "ax.axis[\"x\"] = ax.new_floating_axis(0,0)\n",
    "#draw arrow of x-axis\n",
    "ax.axis[\"x\"].set_axisline_style(\"->\", size = 1.0)\n",
    "#add y-axis and draw arrow of x-axis\n",
    "ax.axis[\"y\"] = ax.new_floating_axis(1,0)\n",
    "ax.axis[\"y\"].set_axisline_style(\"-|>\", size = 1.0)\n",
    "#set the direction of x-axis and y-axis\n",
    "ax.axis[\"x\"].set_axis_direction(\"top\")\n",
    "ax.axis[\"y\"].set_axis_direction(\"right\")\n",
    "\n",
    "#generate the data with step 0.1\n",
    "x1 = np.arange(0,15,0.1)\n",
    "x1_v = np.arange(-15,15,0.1)\n",
    "x2 = np.arange(-15,0,0.1)\n",
    "x2_v = np.arange(-15,15,0.1)\n",
    "x3 = np.arange(0,15,0.1)\n",
    "x3_v = np.arange(-15,15,0.1)\n",
    "#generate the data for v,w, and -u\n",
    "y1 = 2*x1\n",
    "y1_v = -0.5*x1_v\n",
    "y2 = -0.3*x2\n",
    "y2_v = (10/3)*x2_v\n",
    "y3 = (-8/7)*x3\n",
    "y3_v = (7/8)*x3_v\n",
    "#set the range of x-axis and y-axis\n",
    "plt.xlim(-12,12)\n",
    "plt.ylim(-12, 12)\n",
    "#draw the picture\n",
    "plt.plot(x1,y1, c='b',label='v')\n",
    "plt.plot(x2,y2, c='r', label='w')\n",
    "plt.plot(x1_v,y1_v, c='b', ls='--')\n",
    "plt.plot(x2_v,y2_v, c='r', ls='--')\n",
    "plt.plot(x3,y3, c='y', label='u')\n",
    "plt.plot(x3_v,y3_v, c='y', ls='--')\n",
    "plt.legend(loc = 'upper left')"
   ]
  },
  {
   "cell_type": "markdown",
   "metadata": {},
   "source": [
    "\\textbf{Proof:}\n",
    "\n",
    "\"$\\Leftarrow$ \": if $-\\mathbf{u} = a \\mathbf{v}+b\\mathbf{w}$, for $\\mathbf{v} = (v_{1}, v_{2})^{\\top} \\neq (0, 0)^{\\top}$, $\\forall \\mathbf{m} \\in H(\\mathbf{v})$, $\\mathbf{m}\\cdot \\mathbf{v} > 0$ implies the range of angle between $\\mathbf{m}$ and $\\mathbf{v}$, $\\theta_{1} \\in [0, \\frac{\\pi}{2})$. Similarly, for $\\mathbf{w} = (w_{1}, w_{2})^{\\top} \\neq (0, 0)^{\\top}$, $\\forall \\mathbf{m} \\in H(\\mathbf{w})$, $\\mathbf{m}\\cdot \\mathbf{w} > 0$ implies the range of angle between $\\mathbf{m}$ and $\\mathbf{w}$,  $\\theta_{2} \\in [0, \\frac{\\pi}{2})$. For $a \\mathbf{v}+b\\mathbf{w} \\neq (0, 0)^{\\top}$, $\\forall a, b > 0$, it must be located between $\\mathbf{v}$ and $\\mathbf{w}$.Therefore, the angle between $-\\mathbf{u}$ and $\\mathbf{v}$,  $-\\mathbf{u}$ and $\\mathbf{w}$ is big than $\\frac{\\pi}{2}$.Then, we can say, the range of $\\mathbf{m} \\in H(\\mathbf{u})$ will have some overlap with the range of $\\mathbf{m} \\in H(\\mathbf{v}) \\cup H(\\mathbf{w})$. In addition, the range of $\\mathbf{m} \\in H(\\mathbf{v}) \\cup H(\\mathbf{w}) \\cup H(\\mathbf{u})$ is $\\mathbb{R}^{2} - \\{\\mathbf{0}\\}$.\n",
    "\n",
    "Visually,for any $\\mathbf{v}$ with color blue, the range of $H(\\mathbf{v})$ is the area above that dotted blue line. For any $\\mathbf{w}$ with color red, the range of $H(\\mathbf{w})$ is the left area of that dotted red line. And for any $\\mathbf{u}$ with color yellow, the range of $H(\\mathbf{u})$ is the area below that dotted yellow line. Wherever $\\mathbf{v}, \\mathbf{w}$ and $\\mathbf{u}$, the range of $H(\\mathbf{v}) \\cup H(\\mathbf{w}) \\cup H(\\mathbf{u})$ is $\\mathbb{R}^{2} - \\{\\mathbf{0}\\}$."
   ]
  },
  {
   "cell_type": "markdown",
   "metadata": {},
   "source": [
    "\"$\\Rightarrow$ \": if $H(\\mathbf{v}) \\cup H(\\mathbf{w}) \\cup H(\\mathbf{u}) = \\mathbb{R}^{2} - \\{\\mathbf{0}\\}$, the range of $H(\\mathbf{v}) \\cup H(\\mathbf{w})$ must have some overlap with $H(\\mathbf{u})$. It requires $-\\mathbf{u} = a \\mathbf{v}+b\\mathbf{w}$."
   ]
  },
  {
   "cell_type": "markdown",
   "metadata": {},
   "source": [
    "## (d)"
   ]
  },
  {
   "cell_type": "markdown",
   "metadata": {},
   "source": [
    "\\textbf{Proof:}\n",
    "\n",
    "Suppose $y_{i} = y_{k} = 0$, and $y_{j} = 1$, by (b), we have \n",
    "\\begin{equation*}\n",
    "H_{i} = H(\\mathbf{w_{i}}), \\ H_{j} = H(\\mathbf{-w_{j}}), \\ H_{k} = H(\\mathbf{w_{k}})\n",
    "\\end{equation*}\n",
    "\n",
    "where $\\mathbf{w_{i}} = (1, x_{i})^{\\top}$, $\\mathbf{w_{j}} = (1, x_{j})^{\\top}$, and $\\mathbf{w_{k}} = (1, x_{k})^{\\top}$. Note that $1 \\leqslant i < j < k \\leqslant n$, and $x_{i} < x_{j}<x_{k}$.\n",
    "\n",
    "Solve $\\mathbf{w_{j}} = a \\mathbf{w_{i}} + b \\mathbf{w_{k}}$, we can find \n",
    "\n",
    "\\begin{equation*}\n",
    "a = \\frac{x_{j} - x_{k}}{x_{i} - x_{k}} > 0\n",
    "\\\\\n",
    "b = \\frac{x_{i} - x_{j}}{x_{i} - x_{k}} >0 \n",
    "\\end{equation*}\n",
    "\n",
    "Then by (c), $H_{i} \\cup H_{j} \\cup H_{k} = \\mathbb{R}^{2} - \\{ \\mathbf{0} \\}$ .\n",
    "\n",
    "Similarly, we can prove when $y_{i} = y_{k} = 1$, and $y_{j} = 0$, then $H_{i} \\cup H_{j} \\cup H_{k} = \\mathbb{R}^{2} - \\{ \\mathbf{0} \\}$."
   ]
  },
  {
   "cell_type": "markdown",
   "metadata": {},
   "source": [
    "## (e)"
   ]
  },
  {
   "cell_type": "markdown",
   "metadata": {},
   "source": [
    "\\textbf{Proof:}\n",
    "\n",
    "Let $S_{K} : = \\{ (a, b)^{\\top}: l(a,b) \\leq K\\}$. Suppose there $\\exists \\{ t(a, b)^{\\top}: t \\geq 0\\} \\subseteq S_{K}$, s.t., $ l(ta,tb) \\leq K$. However, when $(i, j ,k)$ is an increasing sequence of indices that satisfies $\\dagger$, from (b), let $i$ be such that\n",
    "\n",
    "\\begin{equation*}\n",
    "l_{i}(ta, tb) = \\infty, \\quad t \\rightarrow \\infty \n",
    "\\\\ l(ta, tb) = \\sum_{i} l_{i}(ta, tb) \\geqslant  l_{i}(ta,tb)\n",
    "\\end{equation*}\n",
    "\n",
    "It contradicts with the definition of $S_{K}$, therefore, $S_{K}$ contains no ray from the origin."
   ]
  },
  {
   "cell_type": "markdown",
   "metadata": {},
   "source": [
    "## (f)"
   ]
  },
  {
   "cell_type": "markdown",
   "metadata": {},
   "source": [
    "To deduce $S_{K}$ is bounded, using the facts $(i)$ and $(ii)$, we only need to prove that $l(a, b)$ is a convex function. From problem 1 (e), we already proved that $l(a, b)$ is a convex function. Thus the result."
   ]
  },
  {
   "cell_type": "markdown",
   "metadata": {},
   "source": [
    "## (g)"
   ]
  },
  {
   "cell_type": "markdown",
   "metadata": {},
   "source": [
    "\\textbf{Proof:}\n",
    "\n",
    "By the definition of infimum, $\\forall \\epsilon > 0$, there exists $(\\hat{a},\\hat{b})^{\\top} \\in S_{K}$ such that $m + \\epsilon > l(\\hat{a},\\hat{b})$. And, by the fact that $ m =\\underset{(a, b)^{\\top} \\in S_{K}}{\\text{inf}}l(a,b)$, we have $\\forall (a, b)^{\\top} \\in S_{K}$\n",
    "\\begin{equation*}\n",
    "m \\leqslant l(a,b)\n",
    "\\end{equation*}\n",
    "\n",
    "By the arbitrariness of $\\epsilon$, then there exists $(\\hat{a},\\hat{b})^{\\top} \\in S_{K}$ such that $l(\\hat{a},\\hat{b}) = m $.\n",
    "\n",
    "Since in Problem 1 (e), we have known that $l(a,b)$ is a convex function, therefore, $m$ is the global minimum."
   ]
  },
  {
   "cell_type": "markdown",
   "metadata": {},
   "source": [
    "## (h)"
   ]
  },
  {
   "cell_type": "markdown",
   "metadata": {},
   "source": [
    "\\textbf{Proof:}\n",
    "\n",
    "Suppose there are $(\\hat{a}, \\hat{b})^{\\top}$ and $(a', b')^{\\top}$ such that $l(\\hat{a}, \\hat{b}) = l(a',b') = m$. Note that \n",
    "\n",
    "\\begin{equation*}\n",
    "l(a,b) = \\sum_{i}^{n}l_{i}(a,b)\n",
    "\\end{equation*}\n",
    "\n",
    "Then, we have $l_{i}(\\hat{a}, \\hat{b}) = l_{i}(a',b')$, which implies $\\sigma(\\hat{a}+\\hat{b}x_{i}) = \\sigma(a'+b'x_{i})$, and then $\\hat{a}+\\hat{b}x_{i} = a'+b'x_{i}$. Therefore, \\begin{equation*}\n",
    "\\hat{a} = a', \\quad \\hat{b} = b'\n",
    "\\end{equation*}\n",
    "\n",
    "i.e., $(\\hat{a}, \\hat{b})^{\\top}$  is the unique point at which $l$ takes on its minimum value.\n"
   ]
  },
  {
   "cell_type": "markdown",
   "metadata": {},
   "source": [
    "# Problem 3"
   ]
  },
  {
   "cell_type": "markdown",
   "metadata": {},
   "source": [
    "## (a)"
   ]
  },
  {
   "cell_type": "markdown",
   "metadata": {},
   "source": [
    "\\begin{equation*}\n",
    "\\begin{split}\n",
    "E(S^{2}) &= E\\left(\\frac{(m-1)S_{X}^{2}+(n-1)S_{Y}^{2}}{m+n-2} \\right)\n",
    "\\\\& = \\left(\\frac{(m-1)E(S_{X}^{2})+(n-1)E(S_{Y}^{2})}{m+n-2} \\right)\n",
    "\\\\& = \\left(\\frac{(m-1)\\sigma^{2}+(n-1)\\sigma^{2}}{m+n-2} \\right)\n",
    "\\\\& = \\sigma^{2}\n",
    "\\end{split}\n",
    "\\end{equation*}\n",
    "\n",
    "Therefore, the pooled variance estimator $S^{2}$ is an unbiased estimator of $\\sigma^{2}$."
   ]
  },
  {
   "cell_type": "markdown",
   "metadata": {},
   "source": [
    "## (b)"
   ]
  },
  {
   "cell_type": "markdown",
   "metadata": {},
   "source": [
    "Simplify the equation,  we have\n",
    "\\begin{equation*}\n",
    "\\begin{split}\n",
    "\\frac{(m + n -2) S^{2}}{\\sigma^{2}} & = \\frac{(m + n -2)}{\\sigma^{2}}\\cdot \\frac{(m-1)S_{X}^{2}+(n-1)S_{Y}^{2}}{m+n-2}\n",
    "\\\\& = \\frac{(m -1)S_{X}^{2}}{\\sigma^{2}} +  \\frac{(n -1)S_{Y}^{2}}{\\sigma^{2}}\n",
    "\\end{split}\n",
    "\\end{equation*}\n",
    "\n",
    "Since $ \\frac{(m -1)S_{X}^{2}}{\\sigma^{2}} \\sim \\chi^{2}(m-1)$, and $ \\frac{(n -1)S_{Y}^{2}}{\\sigma^{2}} \\sim \\chi^{2}(n-1)$, therefore, \\begin{equation*}\n",
    "\\frac{(m + n -2) S^{2}}{\\sigma^{2}} \\sim \\chi^{2}(m+n-2)\n",
    "\\end{equation*}\n",
    "\n",
    "Then we have\n",
    "\n",
    "\\begin{equation*}\n",
    "\\begin{split}\n",
    " \\text{Var}(\\frac{(m + n -2) S^{2}}{\\sigma^{2}}) = 2 (m+n-2)\n",
    "\\\\ \\Leftrightarrow \\frac{(m+n-2)^{2}}{\\sigma^{4}} \\text{Var}(S^{2}) = 2 (m+n-2)\n",
    "\\\\ \\Leftrightarrow \\text{Var}(S^{2}) = \\frac{2 \\sigma^{4}}{m+n-2}\n",
    "\\end{split}\n",
    "\\end{equation*}\n"
   ]
  },
  {
   "cell_type": "markdown",
   "metadata": {},
   "source": [
    "# Problem 4"
   ]
  },
  {
   "cell_type": "markdown",
   "metadata": {},
   "source": [
    "## (a) "
   ]
  },
  {
   "cell_type": "code",
   "execution_count": 1,
   "metadata": {},
   "outputs": [],
   "source": [
    "from sklearn.linear_model import LogisticRegression\n",
    "from sklearn.model_selection import train_test_split\n",
    "from sklearn.metrics import confusion_matrix\n",
    "from sklearn.metrics import classification_report\n",
    "from matplotlib import pyplot as plt\n",
    "import pandas as pd\n",
    "import numpy as np\n",
    "import random"
   ]
  },
  {
   "cell_type": "code",
   "execution_count": 2,
   "metadata": {},
   "outputs": [],
   "source": [
    "# input data\n",
    "data = pd.read_csv(\"dataset_1.csv\")\n",
    "dataset = pd.DataFrame(data)\n",
    "\n",
    "# rename the columns of dataset\n",
    "dataset.columns = ['feature_1', 'feature_2','label']\n",
    "\n",
    "#select subdataset by label 0 or 1\n",
    "data1 = dataset[dataset['label'] == 1]\n",
    "data0 = dataset[dataset['label'] == 0]"
   ]
  },
  {
   "cell_type": "code",
   "execution_count": 3,
   "metadata": {},
   "outputs": [
    {
     "data": {
      "text/plain": [
       "<matplotlib.legend.Legend at 0x1af782eb7b8>"
      ]
     },
     "execution_count": 3,
     "metadata": {},
     "output_type": "execute_result"
    },
    {
     "data": {
      "image/png": "[encoded data removed]",
      "text/plain": [
       "<Figure size 432x288 with 1 Axes>"
      ]
     },
     "metadata": {},
     "output_type": "display_data"
    }
   ],
   "source": [
    "#scatter plot\n",
    "p1 = plt.scatter(data1['feature_1'], data1['feature_2'], marker = 'x', color = 'r', label = '1', s = 30)\n",
    "p2 = plt.scatter(data0['feature_1'], data0['feature_2'], marker = '*', color = 'b', label = '0', s = 30)\n",
    "plt.legend(loc = 'upper right')"
   ]
  },
  {
   "cell_type": "markdown",
   "metadata": {},
   "source": [
    "## (b)"
   ]
  },
  {
   "cell_type": "markdown",
   "metadata": {},
   "source": [
    "Fit the data to a logistic regression model and plot the decision boundary."
   ]
  },
  {
   "cell_type": "markdown",
   "metadata": {},
   "source": [
    "When the test data size is more than $10\\%$ of the total data set, it shows that \\textit{\"no contour levels were found within the data range.\"} "
   ]
  },
  {
   "cell_type": "code",
   "execution_count": 6,
   "metadata": {},
   "outputs": [
    {
     "name": "stderr",
     "output_type": "stream",
     "text": [
      "D:\\Users\\TUSBASA\\AppData\\Local\\Continuum\\anaconda3\\lib\\site-packages\\matplotlib\\contour.py:1173: UserWarning: No contour levels were found within the data range.\n",
      "  warnings.warn(\"No contour levels were found\"\n"
     ]
    },
    {
     "data": {
      "image/png": "[encoded data removed]",
      "text/plain": [
       "<Figure size 432x288 with 1 Axes>"
      ]
     },
     "metadata": {},
     "output_type": "display_data"
    }
   ],
   "source": [
    "X = dataset[['feature_1','feature_2']]\n",
    "Y = dataset.label\n",
    "\n",
    "X_train, X_test, y_train, y_test = train_test_split(X, Y, test_size = .1, random_state=np.random.randint(10e5))\n",
    "\n",
    "# Use Logistic Regression model and fit the data\n",
    "logreg = LogisticRegression(solver='lbfgs', multi_class='multinomial')\n",
    "logreg.fit(X_train, y_train)\n",
    "\n",
    "# Plot the decision boundary. For that, we will assign a color to each point in the mesh [x_min, x_max]x[y_min, y_max].\n",
    "X_train = pd.DataFrame(X_train)\n",
    "y_train = pd.DataFrame(y_train)\n",
    "X_train['y_train'] = y_train\n",
    "new_data = X_train\n",
    "new_data0 = new_data[new_data['y_train'] == 0]\n",
    "new_data1 = new_data[new_data['y_train'] == 1]\n",
    "\n",
    "x_min, x_max = new_data[['feature_1']].min() - .5, new_data[['feature_1']].max() + .5\n",
    "y_min, y_max = new_data[['feature_2']].min() - .5, new_data[['feature_2']].max() + .5\n",
    "h = .02  # step size in the mesh\n",
    "xx, yy = np.meshgrid(np.arange(x_min, x_max, h), np.arange(y_min, y_max, h))\n",
    "Z = logreg.predict(np.c_[xx.ravel(), yy.ravel()])\n",
    "\n",
    "# Put the result into a color plot\n",
    "Z = Z.reshape(xx.shape)\n",
    "plt.contour(xx, yy, Z)\n",
    "\n",
    "# Plot also the training points\n",
    "plt.scatter(new_data1['feature_1'], new_data1['feature_2'], marker = 'x', color = 'r', label = '1', s = 30)\n",
    "plt.scatter(new_data0['feature_1'], new_data0['feature_2'], marker = '*', color = 'b', label = '0', s = 30)\n",
    "#plt.scatter(X_train[['feature_1']], X_train[['feature_2']])\n",
    "plt.xlabel('Feature 1')\n",
    "plt.ylabel('Feature 2')\n",
    "\n",
    "plt.xlim(xx.min(), xx.max())\n",
    "plt.ylim(yy.min(), yy.max())\n",
    "plt.xticks(())\n",
    "plt.yticks(())\n",
    "\n",
    "plt.show()"
   ]
  },
  {
   "cell_type": "code",
   "execution_count": 7,
   "metadata": {
    "scrolled": true
   },
   "outputs": [
    {
     "name": "stdout",
     "output_type": "stream",
     "text": [
      "             precision    recall  f1-score   support\n",
      "\n",
      "        0.0       0.59      1.00      0.74        53\n",
      "        1.0       0.00      0.00      0.00        37\n",
      "\n",
      "avg / total       0.35      0.59      0.44        90\n",
      "\n"
     ]
    },
    {
     "name": "stderr",
     "output_type": "stream",
     "text": [
      "D:\\Users\\TUSBASA\\AppData\\Local\\Continuum\\anaconda3\\lib\\site-packages\\sklearn\\metrics\\classification.py:1135: UndefinedMetricWarning: Precision and F-score are ill-defined and being set to 0.0 in labels with no predicted samples.\n",
      "  'precision', 'predicted', average, warn_for)\n"
     ]
    }
   ],
   "source": [
    "X = dataset[['feature_1','feature_2']]\n",
    "Y = dataset.label\n",
    "\n",
    "X_train, X_test, y_train, y_test = train_test_split(X, Y, test_size = .1, random_state=np.random.randint(10e5))\n",
    "\n",
    "# Use Logistic Regression model and fit the data\n",
    "logreg = LogisticRegression(solver='lbfgs', multi_class='multinomial')\n",
    "logreg.fit(X_train, y_train)\n",
    "\n",
    "#Get the predictive value of Y\n",
    "y_pred = logreg.predict(X_test)\n",
    "\n",
    "print(classification_report(y_test, y_pred))"
   ]
  },
  {
   "cell_type": "markdown",
   "metadata": {},
   "source": [
    "Now change the training data size from $90\\%$ to $10\\%$."
   ]
  },
  {
   "cell_type": "code",
   "execution_count": 11,
   "metadata": {},
   "outputs": [
    {
     "name": "stdout",
     "output_type": "stream",
     "text": [
      "             precision    recall  f1-score   support\n",
      "\n",
      "        0.0       0.67      1.00      0.80       541\n",
      "        1.0       0.00      0.00      0.00       269\n",
      "\n",
      "avg / total       0.45      0.67      0.53       810\n",
      "\n"
     ]
    },
    {
     "name": "stderr",
     "output_type": "stream",
     "text": [
      "D:\\Users\\TUSBASA\\AppData\\Local\\Continuum\\anaconda3\\lib\\site-packages\\sklearn\\metrics\\classification.py:1135: UndefinedMetricWarning: Precision and F-score are ill-defined and being set to 0.0 in labels with no predicted samples.\n",
      "  'precision', 'predicted', average, warn_for)\n"
     ]
    }
   ],
   "source": [
    "X = dataset[['feature_1','feature_2']]\n",
    "Y = dataset.label\n",
    "\n",
    "random.seed(317)\n",
    "\n",
    "X_train, X_test, y_train, y_test = train_test_split(X, Y, test_size = .9, random_state=np.random.randint(10e5))\n",
    "\n",
    "# Use Logistic Regression model and fit the data\n",
    "logreg = LogisticRegression(solver='lbfgs', multi_class='multinomial')\n",
    "logreg.fit(X_train, y_train)\n",
    "\n",
    "#Get the predictive value of Y\n",
    "y_pred = logreg.predict(X_test)\n",
    "\n",
    "print(classification_report(y_test, y_pred))"
   ]
  },
  {
   "cell_type": "code",
   "execution_count": 12,
   "metadata": {},
   "outputs": [
    {
     "data": {
      "image/png": "[encoded data removed]",
      "text/plain": [
       "<Figure size 432x288 with 1 Axes>"
      ]
     },
     "metadata": {},
     "output_type": "display_data"
    }
   ],
   "source": [
    "# Plot the decision boundary. For that, we will assign a color to each point in the mesh [x_min, x_max]x[y_min, y_max].\n",
    "X_train = pd.DataFrame(X_train)\n",
    "y_train = pd.DataFrame(y_train)\n",
    "X_train['y_train'] = y_train\n",
    "new_data = X_train\n",
    "new_data0 = new_data[new_data['y_train'] == 0]\n",
    "new_data1 = new_data[new_data['y_train'] == 1]\n",
    "\n",
    "x_min, x_max = new_data[['feature_1']].min() - .5, new_data[['feature_1']].max() + .5\n",
    "y_min, y_max = new_data[['feature_2']].min() - .5, new_data[['feature_2']].max() + .5\n",
    "h = .02  # step size in the mesh\n",
    "xx, yy = np.meshgrid(np.arange(x_min, x_max, h), np.arange(y_min, y_max, h))\n",
    "Z = logreg.predict(np.c_[xx.ravel(), yy.ravel()])\n",
    "\n",
    "# Put the result into a color plot\n",
    "Z = Z.reshape(xx.shape)\n",
    "plt.contour(xx, yy, Z)\n",
    "\n",
    "# Plot also the training points\n",
    "plt.scatter(new_data1['feature_1'], new_data1['feature_2'], marker = 'x', color = 'r', label = '1', s = 30)\n",
    "plt.scatter(new_data0['feature_1'], new_data0['feature_2'], marker = '*', color = 'b', label = '0', s = 30)\n",
    "plt.xlabel('Feature 1')\n",
    "plt.ylabel('Feature 2')\n",
    "\n",
    "plt.xlim(xx.min(), xx.max())\n",
    "plt.ylim(yy.min(), yy.max())\n",
    "plt.xticks(())\n",
    "plt.yticks(())\n",
    "\n",
    "plt.show()"
   ]
  },
  {
   "cell_type": "markdown",
   "metadata": {},
   "source": [
    "However, when the size of training data is small, the result here (the decision boundary) is unconvincing."
   ]
  },
  {
   "cell_type": "markdown",
   "metadata": {},
   "source": [
    "Fit the data to a Gaussian naive Bayes model and plot the decision boundary."
   ]
  },
  {
   "cell_type": "code",
   "execution_count": 8,
   "metadata": {},
   "outputs": [],
   "source": [
    "from sklearn.naive_bayes import GaussianNB\n",
    "from sklearn.model_selection import train_test_split\n",
    "from matplotlib import pyplot as plt\n",
    "import pandas as pd\n",
    "import numpy as np\n",
    "import math"
   ]
  },
  {
   "cell_type": "code",
   "execution_count": 14,
   "metadata": {},
   "outputs": [
    {
     "name": "stdout",
     "output_type": "stream",
     "text": [
      "             precision    recall  f1-score   support\n",
      "\n",
      "        0.0       0.84      0.88      0.86        58\n",
      "        1.0       0.76      0.69      0.72        32\n",
      "\n",
      "avg / total       0.81      0.81      0.81        90\n",
      "\n"
     ]
    }
   ],
   "source": [
    "X = dataset[['feature_1','feature_2']]\n",
    "Y = dataset.label\n",
    "\n",
    "X_train, X_test, y_train, y_test = train_test_split(X, Y, test_size = .1, random_state=np.random.randint(10e5))\n",
    "\n",
    "#Use a Gaussian naive Bayes model to fit the data\n",
    "gnb = GaussianNB()\n",
    "gnb.fit(X_train, y_train)\n",
    "\n",
    "#Get the predictive value of Y\n",
    "y_pred = gnb.predict(X_test)\n",
    "\n",
    "print(classification_report(y_test, y_pred))"
   ]
  },
  {
   "cell_type": "code",
   "execution_count": 15,
   "metadata": {},
   "outputs": [
    {
     "data": {
      "image/png": "[encoded data removed]",
      "text/plain": [
       "<Figure size 432x288 with 1 Axes>"
      ]
     },
     "metadata": {},
     "output_type": "display_data"
    }
   ],
   "source": [
    "# Plot the decision boundary. For that, we will assign a color to each point in the mesh [x_min, x_max]x[y_min, y_max].\n",
    "X_train = pd.DataFrame(X_train)\n",
    "y_train = pd.DataFrame(y_train)\n",
    "X_train['y_train'] = y_train\n",
    "new_data = X_train\n",
    "new_data0 = new_data[new_data['y_train'] == 0]\n",
    "new_data1 = new_data[new_data['y_train'] == 1]\n",
    "\n",
    "x_min, x_max = new_data[['feature_1']].min() - .5, new_data[['feature_1']].max() + .5\n",
    "y_min, y_max = new_data[['feature_2']].min() - .5, new_data[['feature_2']].max() + .5\n",
    "h = .02  # step size in the mesh\n",
    "xx, yy = np.meshgrid(np.arange(x_min, x_max, h), np.arange(y_min, y_max, h))\n",
    "Z = gnb.predict(np.c_[xx.ravel(), yy.ravel()])\n",
    "\n",
    "# Put the result into a color plot\n",
    "Z = Z.reshape(xx.shape)\n",
    "plt.contour(xx, yy, Z,colors='y', linewidths=3)\n",
    "\n",
    "# Plot also the training points\n",
    "plt.scatter(new_data1['feature_1'], new_data1['feature_2'], marker = 'x', color = 'r', label = '1', s = 30)\n",
    "plt.scatter(new_data0['feature_1'], new_data0['feature_2'], marker = '*', color = 'b', label = '0', s = 30)\n",
    "plt.xlabel('Feature 1')\n",
    "plt.ylabel('Feature 2')\n",
    "\n",
    "plt.xlim(xx.min(), xx.max())\n",
    "plt.ylim(yy.min(), yy.max())\n",
    "plt.xticks(())\n",
    "plt.yticks(())\n",
    "\n",
    "plt.show()"
   ]
  },
  {
   "cell_type": "markdown",
   "metadata": {},
   "source": [
    "Compare these two results, the Gaussian naive Bayes classifier yields a better result than the logistic regression classifier. "
   ]
  },
  {
   "cell_type": "markdown",
   "metadata": {},
   "source": [
    "## (c)"
   ]
  },
  {
   "cell_type": "code",
   "execution_count": 4,
   "metadata": {
    "scrolled": true
   },
   "outputs": [
    {
     "data": {
      "text/plain": [
       "<bound method NDFrame.head of      feature_1  feature_2  label  feature_3  feature_4  feature_5\n",
       "0     3.675052  -6.344161    0.0  13.506006 -23.315121  40.248381\n",
       "1    -3.364928   7.041318    0.0  11.322742 -23.693530  49.580158\n",
       "2     1.694320   1.447161    0.0   2.870721   2.451954   2.094275\n",
       "3     4.054083  -1.304888    0.0  16.435592  -5.290127   1.702734\n",
       "4    -7.742027   1.264913    0.0  59.938987  -9.792989   1.600004\n",
       "5    -6.917131   8.893598    0.0  47.846706 -61.518185  79.096085\n",
       "6     3.383288  -3.178704    0.0  11.446638 -10.754471  10.104158\n",
       "7     3.962048  -4.795083    0.0  15.697828 -18.998350  22.992818\n",
       "8    -1.897284   5.798241    0.0   3.599685 -11.000909  33.619602\n",
       "9    -5.207891   1.907284    0.0  27.122130  -9.932926   3.637731\n",
       "10    3.083910  -6.765969    0.0   9.510502 -20.865640  45.778334\n",
       "11   -5.679789   1.613964    0.0  32.260000  -9.166972   2.604878\n",
       "12   -3.296934  -1.489919    0.0  10.869772   4.912165   2.219860\n",
       "13   -1.521670  -4.450176    0.0   2.315479   6.771699  19.804064\n",
       "14   -6.247812   5.942000    0.0  39.035153 -37.124495  35.307358\n",
       "15    0.768498   4.988647    0.0   0.590589   3.833766  24.886595\n",
       "16   -7.324032   3.193076    0.0  53.641451 -23.386191  10.195734\n",
       "17   -6.304129   2.691515    0.0  39.742040 -16.967656   7.244252\n",
       "18   -5.945891   3.728386    0.0  35.353620 -22.168576  13.900861\n",
       "19   -4.688559   4.869327    0.0  21.982587 -22.830128  23.710347\n",
       "20    0.418084   7.058720    0.0   0.174795   2.951141  49.825528\n",
       "21    3.184358   1.796015    0.0  10.140139   5.719154   3.225668\n",
       "22    9.393220  -4.313703    0.0  88.232583 -40.519557  18.608030\n",
       "23   -9.429204   5.420570    0.0  88.909891 -51.111662  29.382580\n",
       "24   -1.960239   3.262893    0.0   3.842536  -6.396050  10.646473\n",
       "25    3.110441  -3.565557    0.0   9.674844 -11.090454  12.713194\n",
       "26    4.626828  -5.718313    0.0  21.407538 -26.457650  32.699101\n",
       "27   -6.646018   4.664786    0.0  44.169554 -31.002254  21.760233\n",
       "28   -2.598596  -1.835376    0.0   6.752700   4.769401   3.368606\n",
       "29   -7.721713   5.997561    0.0  59.624858 -46.311444  35.970733\n",
       "..         ...        ...    ...        ...        ...        ...\n",
       "869   2.574460  -1.128456    1.0   6.627842  -2.905164   1.273413\n",
       "870   1.328956   0.910903    1.0   1.766123   1.210550   0.829744\n",
       "871  -4.431544   4.639129    1.0  19.638578 -20.558503  21.521519\n",
       "872  -1.945830  -0.959378    1.0   3.786253   1.866786   0.920406\n",
       "873   1.689179   0.197319    1.0   2.853326   0.333307   0.038935\n",
       "874  -1.314542   0.165947    1.0   1.728022  -0.218144   0.027538\n",
       "875  -4.232121   0.357848    1.0  17.910847  -1.514457   0.128055\n",
       "876   0.766022  -2.724408    1.0   0.586789  -2.086955   7.422398\n",
       "877  -2.454223  -1.853266    1.0   6.023210   4.548327   3.434593\n",
       "878   1.416881  -1.860400    1.0   2.007552  -2.635965   3.461087\n",
       "879  -4.048996   0.631740    1.0  16.394372  -2.557914   0.399096\n",
       "880  -0.094495  -1.355411    1.0   0.008929   0.128079   1.837139\n",
       "881  -1.991145   2.031486    1.0   3.964660  -4.044984   4.126935\n",
       "882  -0.006729   1.976014    1.0   0.000045  -0.013296   3.904632\n",
       "883   4.412876  -2.281690    1.0  19.473472 -10.068813   5.206108\n",
       "884   2.307079   1.576972    1.0   5.322615   3.638199   2.486841\n",
       "885   0.402857   0.285474    1.0   0.162294   0.115005   0.081495\n",
       "886  -0.870524   2.314665    1.0   0.757812  -2.014971   5.357676\n",
       "887   1.345819  -1.793121    1.0   1.811230  -2.413217   3.215283\n",
       "888  -1.303370   0.334438    1.0   1.698773  -0.435896   0.111849\n",
       "889   1.329108  -2.457942    1.0   1.766528  -3.266871   6.041480\n",
       "890   0.842346  -0.682016    1.0   0.709546  -0.574494   0.465146\n",
       "891   0.802667  -0.093213    1.0   0.644274  -0.074819   0.008689\n",
       "892  -0.936393  -2.931473    1.0   0.876833   2.745011   8.593532\n",
       "893  -3.040933   3.440424    1.0   9.247271 -10.462099  11.836521\n",
       "894   0.869583  -1.158494    1.0   0.756175  -1.007407   1.342108\n",
       "895   3.642802  -4.796566    1.0  13.270008 -17.472940  23.007041\n",
       "896  -1.495733   3.365957    1.0   2.237218  -5.034574  11.329667\n",
       "897   1.569534  -1.398385    1.0   2.463436  -2.194813   1.955482\n",
       "898   0.891431  -1.951263    1.0   0.794649  -1.739416   3.807427\n",
       "\n",
       "[899 rows x 6 columns]>"
      ]
     },
     "execution_count": 4,
     "metadata": {},
     "output_type": "execute_result"
    }
   ],
   "source": [
    "# input data\n",
    "data = pd.read_csv(\"dataset_1.csv\")\n",
    "dataset = pd.DataFrame(data)\n",
    "\n",
    "# rename the columns of dataset\n",
    "dataset.columns = ['feature_1', 'feature_2','label']\n",
    "\n",
    "# augment the dataset with three new features\n",
    "dataset['feature_3'] = dataset['feature_1'].map(lambda x: x**2)\n",
    "dataset['feature_4'] =dataset['feature_1']*dataset['feature_2']\n",
    "dataset['feature_5'] = dataset['feature_2'].map(lambda x: x**2)\n",
    "\n",
    "dataset.head"
   ]
  },
  {
   "cell_type": "markdown",
   "metadata": {},
   "source": [
    "## (d)"
   ]
  },
  {
   "cell_type": "code",
   "execution_count": 6,
   "metadata": {},
   "outputs": [
    {
     "name": "stdout",
     "output_type": "stream",
     "text": [
      "[[-0.01758604 -0.05236831 -0.11576063 -0.15439781 -0.1463601 ]] [1.33376643]\n",
      "             precision    recall  f1-score   support\n",
      "\n",
      "        0.0       0.93      0.85      0.88        59\n",
      "        1.0       0.75      0.87      0.81        31\n",
      "\n",
      "avg / total       0.87      0.86      0.86        90\n",
      "\n"
     ]
    }
   ],
   "source": [
    "X = dataset[['feature_1','feature_2', 'feature_3', 'feature_4', 'feature_5']]\n",
    "Y = dataset.label\n",
    "\n",
    "X_train, X_test, y_train, y_test = train_test_split(X, Y, test_size = .1, random_state=np.random.randint(10e5))\n",
    "\n",
    "# Use Logistic Regression model and fit the data\n",
    "logreg = LogisticRegression(solver='lbfgs', multi_class='multinomial')\n",
    "logreg.fit(X_train, y_train)\n",
    "w2 = logreg.coef_\n",
    "w1 = logreg.intercept_\n",
    "\n",
    "\n",
    "#Get the predictive value of Y\n",
    "y_pred = logreg.predict(X_test)\n",
    "\n",
    "print(w2, w1)\n",
    "print(classification_report(y_test, y_pred))"
   ]
  },
  {
   "cell_type": "markdown",
   "metadata": {},
   "source": [
    "The fitted logistic regression model is \n",
    "\n",
    "\\begin{equation*}\n",
    "log(\\frac{P(\\text{label} = 1 )}{1-P(\\text{label} = 1 )}) = 1.334 -0.017x_{1} -0.0524 x_{2}  -0.116 x_{1}^{2} -0.154 x_{1}x_{2} -0.146 x_{2}^{2}\n",
    "\\end{equation*}\n"
   ]
  },
  {
   "cell_type": "code",
   "execution_count": 14,
   "metadata": {
    "scrolled": false
   },
   "outputs": [
    {
     "name": "stdout",
     "output_type": "stream",
     "text": [
      "[[ -0.08784594  -0.09504156  21.72559258 -13.09618901  22.16127563]\n",
      " [  0.03491755  -0.1615705    4.62415904  -2.55244443   3.81907758]]\n",
      "[[ 21.71787607  22.15224314 490.50762883 377.48702541 436.19409414]\n",
      " [  4.62294021   3.79297296  38.24083686  20.88025111  29.58109512]]\n",
      "             precision    recall  f1-score   support\n",
      "\n",
      "        0.0       0.96      0.84      0.90        51\n",
      "        1.0       0.82      0.95      0.88        39\n",
      "\n",
      "avg / total       0.90      0.89      0.89        90\n",
      "\n"
     ]
    }
   ],
   "source": [
    "X = dataset[['feature_1','feature_2', 'feature_3', 'feature_4', 'feature_5']]\n",
    "Y = dataset.label\n",
    "\n",
    "X_train, X_test, y_train, y_test = train_test_split(X, Y, test_size = .1, random_state=np.random.randint(10e5))\n",
    "\n",
    "#Use a Gaussian naive Bayes model to fit the data\n",
    "gnb = GaussianNB()\n",
    "gnb.fit(X_train, y_train)\n",
    "theta = gnb.theta_\n",
    "sigma = gnb.sigma_\n",
    "#e = gnb.epsilon_\n",
    "\n",
    "#Get the predictive value of Y\n",
    "y_pred = gnb.predict(X_test)\n",
    "\n",
    "print(theta)\n",
    "print(sigma)\n",
    "print(classification_report(y_test, y_pred))"
   ]
  },
  {
   "cell_type": "markdown",
   "metadata": {},
   "source": [
    "Let $i = 1, 2, 3, 4, 5$, indicates the i-th element of the following vector,\n",
    "\\begin{equation*}\n",
    "\\mu_{i0} = (-0.08784594, -0.09504156, 21.72559258, -13.09618901, 22.16127563 )\n",
    "\\\\ \\mu_{i1} = (0.03491755, -0.1615705, 4.62415904, -2.55244443, 3.81907758)\n",
    "\\\\ \\sigma_{i0} = (21.71787607, 22.15224314, 490.50762883, 377.48702541, 436.19409414)\n",
    "\\\\ \\sigma_{i1} = (4.62294021, 3.79297296, 38.24083686, 20.88025111, 29.58109512)\n",
    "\\end{equation*}\n",
    "\n",
    "Then, the fitted Gaussian naive Bayes model is \n",
    "\n",
    "\\begin{equation*}\n",
    "P(X_{i} = x | Y = k) = \\frac{1}{\\sqrt{2 \\pi \\sigma_{ik}}}exp\\left\\{-\\frac{1}{2}(\\frac{x-\\mu_{ik}}{\\sigma_{ik}})^{2}\\right \\}\n",
    "\\end{equation*}\n",
    "\n",
    "Note that here $k = 0,1$."
   ]
  },
  {
   "cell_type": "markdown",
   "metadata": {},
   "source": [
    "## (e)"
   ]
  },
  {
   "cell_type": "markdown",
   "metadata": {},
   "source": [
    "Plot the plane curve:  \n",
    "$y = c_{0}+c_{1}x_{1}+c_{2}x_{2}+c_{3}x_{1}^{2}+c_{4}x_{1}x_{2}+c_{5}x_{2}^{2}$"
   ]
  },
  {
   "cell_type": "code",
   "execution_count": 19,
   "metadata": {
    "scrolled": false
   },
   "outputs": [
    {
     "data": {
      "text/plain": [
       "<matplotlib.contour.QuadContourSet at 0x1ce3e770390>"
      ]
     },
     "execution_count": 19,
     "metadata": {},
     "output_type": "execute_result"
    },
    {
     "data": {
      "image/png": "[encoded data removed]",
      "text/plain": [
       "<Figure size 432x288 with 1 Axes>"
      ]
     },
     "metadata": {},
     "output_type": "display_data"
    }
   ],
   "source": [
    "from matplotlib import pyplot as plt\n",
    "plt.style.use('seaborn-white')\n",
    "\n",
    "X = dataset[['feature_1','feature_2', 'feature_3', 'feature_4', 'feature_5']]\n",
    "Y = dataset.label\n",
    "\n",
    "X_train, X_test, y_train, y_test = train_test_split(X, Y, test_size = .1, random_state=np.random.randint(10e5))\n",
    "\n",
    "logreg = LogisticRegression(solver='lbfgs', multi_class='multinomial')\n",
    "logreg.fit(X_train, y_train)\n",
    "w2 = logreg.coef_\n",
    "w1 = logreg.intercept_\n",
    "w = np.append(w1, w2)\n",
    "\n",
    "x_min, x_max = X_train[['feature_1']].min() - .5, X_train[['feature_1']].max() + .5\n",
    "y_min, y_max = X_train[['feature_2']].min() - .5, X_train[['feature_2']].max() + .5\n",
    "h = .02  # step size in the mesh\n",
    "xx, yy = np.meshgrid(np.arange(x_min, x_max, h), np.arange(y_min, y_max, h))\n",
    "\n",
    "\n",
    "def f(x1, x2, w):\n",
    "    return w[0] + w[1]*x1 + w[2]*x2 + w[3]*x1**2 + w[4]*x1*x2 + w[5]*x2**2\n",
    "\n",
    "zz = f(xx, yy, w)\n",
    "plt.contour(xx, yy, zz,levels=[0],colors='black')\n"
   ]
  },
  {
   "cell_type": "code",
   "execution_count": 20,
   "metadata": {},
   "outputs": [
    {
     "data": {
      "image/png": "[encoded data removed]",
      "text/plain": [
       "<Figure size 432x288 with 1 Axes>"
      ]
     },
     "metadata": {},
     "output_type": "display_data"
    }
   ],
   "source": [
    "from sklearn.linear_model import LogisticRegression\n",
    "from sklearn.model_selection import train_test_split\n",
    "from sklearn.metrics import confusion_matrix\n",
    "from sklearn.metrics import classification_report\n",
    "from matplotlib import pyplot as plt\n",
    "import pandas as pd\n",
    "import numpy as np\n",
    "\n",
    "# input data\n",
    "data = pd.read_csv(\"dataset_1.csv\")\n",
    "dataset = pd.DataFrame(data)\n",
    "\n",
    "# rename the columns of dataset\n",
    "dataset.columns = ['feature_1', 'feature_2','label']\n",
    "\n",
    "# augment the dataset with three new features\n",
    "dataset['feature_3'] = dataset['feature_1'].map(lambda x: x**2)\n",
    "dataset['feature_4'] =dataset['feature_1']*dataset['feature_2']\n",
    "dataset['feature_5'] = dataset['feature_2'].map(lambda x: x**2)\n",
    "\n",
    "#select subdataset by label 0 or 1\n",
    "data1 = dataset[dataset['label'] == 1]\n",
    "data0 = dataset[dataset['label'] == 0]\n",
    "\n",
    "#scatter plot\n",
    "p1 = plt.scatter(data1['feature_1'], data1['feature_2'], marker = 'x', color = 'r', label = '1', s = 30)\n",
    "p2 = plt.scatter(data0['feature_1'], data0['feature_2'], marker = '*', color = 'b', label = '0', s = 30)\n",
    "plt.legend(loc = 'upper right')\n",
    "\n",
    "#plot decision boundary\n",
    "X = dataset[['feature_1','feature_2', 'feature_3', 'feature_4', 'feature_5']]\n",
    "Y = dataset.label\n",
    "\n",
    "X_train, X_test, y_train, y_test = train_test_split(X, Y, test_size = .1, random_state=np.random.randint(10e5))\n",
    "\n",
    "logreg = LogisticRegression(solver='lbfgs', multi_class='multinomial')\n",
    "logreg.fit(X_train, y_train)\n",
    "w2 = logreg.coef_\n",
    "w1 = logreg.intercept_\n",
    "w = np.append(w1, w2)\n",
    "\n",
    "x_min, x_max = X_train[['feature_1']].min() - .5, X_train[['feature_1']].max() + .5\n",
    "y_min, y_max = X_train[['feature_2']].min() - .5, X_train[['feature_2']].max() + .5\n",
    "h = .02  # step size in the mesh\n",
    "xx, yy = np.meshgrid(np.arange(x_min, x_max, h), np.arange(y_min, y_max, h))\n",
    "\n",
    "\n",
    "def f(x1, x2, w):\n",
    "    return w[0] + w[1]*x1 + w[2]*x2 + w[3]*x1**2 + w[4]*x1*x2 + w[5]*x2**2\n",
    "\n",
    "zz = f(xx, yy, w)\n",
    "plt.contour(xx, yy, zz,levels=[0],colors='yellow',linewidths = 3)\n",
    "\n",
    "plt.xlabel('Feature 1')\n",
    "plt.ylabel('Feature 2')\n",
    "plt.xticks(())\n",
    "plt.yticks(())\n",
    "plt.show()"
   ]
  },
  {
   "cell_type": "markdown",
   "metadata": {},
   "source": [
    "\\textbf{Comment:} The decision boundary of logistic regression is linear, therefore it can not classify the samples with the shape of \"concentric elliptical\". The decision boundary of a Gaussian naive Bayes model yields a better result than logistic regression model, since it is an ellipse. However, it still fails to separate the two class as much as possible. As for the plane curve with degree of two, it yields the best result. \n",
    "\n",
    "To get the best classification result, we need to use different model and then compare the efficiency to choose the \"best\" model."
   ]
  },
  {
   "cell_type": "markdown",
   "metadata": {},
   "source": [
    "## (f)"
   ]
  },
  {
   "cell_type": "code",
   "execution_count": 21,
   "metadata": {},
   "outputs": [
    {
     "data": {
      "image/png": "[encoded data removed]",
      "text/plain": [
       "<Figure size 432x288 with 1 Axes>"
      ]
     },
     "metadata": {},
     "output_type": "display_data"
    }
   ],
   "source": [
    "from sklearn.linear_model import LogisticRegression\n",
    "from sklearn.model_selection import train_test_split\n",
    "from sklearn.metrics import confusion_matrix\n",
    "from sklearn.metrics import classification_report\n",
    "from matplotlib import pyplot as plt\n",
    "import pandas as pd\n",
    "import numpy as np\n",
    "\n",
    "# input data\n",
    "data = pd.read_csv(\"dataset_2.csv\")\n",
    "dataset = pd.DataFrame(data)\n",
    "\n",
    "# rename the columns of dataset\n",
    "dataset.columns = ['feature_1', 'feature_2','label']\n",
    "\n",
    "# augment the dataset with new features\n",
    "dataset['feature_3'] = dataset['feature_1'].map(lambda x: x**2)\n",
    "dataset['feature_4'] =dataset['feature_1']*dataset['feature_2']\n",
    "dataset['feature_5'] = dataset['feature_2'].map(lambda x: x**2)\n",
    "dataset['feature_6'] = dataset['feature_1'].map(lambda x: x**3)\n",
    "dataset['feature_7'] = dataset['feature_3']*dataset['feature_2']\n",
    "dataset['feature_8'] = dataset['feature_5']*dataset['feature_1']\n",
    "dataset['feature_9'] = dataset['feature_2'].map(lambda x: x**3)\n",
    "dataset['feature_10'] = dataset['feature_3']*dataset['feature_2']\n",
    "dataset['feature_11'] = dataset['feature_5']*dataset['feature_1']\n",
    "\n",
    "#select subdataset by label 0 or 1\n",
    "data1 = dataset[dataset['label'] == 1]\n",
    "data0 = dataset[dataset['label'] == 0]\n",
    "\n",
    "#scatter plot\n",
    "p1 = plt.scatter(data1['feature_1'], data1['feature_2'], marker = 'x', color = 'r', label = '1', s = 30)\n",
    "p2 = plt.scatter(data0['feature_1'], data0['feature_2'], marker = '*', color = 'b', label = '0', s = 30)\n",
    "plt.legend(loc = 'upper right')\n",
    "\n",
    "#plot decision boundary\n",
    "X = dataset[['feature_1','feature_2','feature_3', 'feature_4', 'feature_5','feature_6','feature_7','feature_8','feature_9',\n",
    "             'feature_10','feature_11']]\n",
    "Y = dataset.label\n",
    "\n",
    "X_train, X_test, y_train, y_test = train_test_split(X, Y, test_size = .1, random_state=np.random.randint(10e5))\n",
    "\n",
    "logreg = LogisticRegression(solver='lbfgs', multi_class='multinomial')\n",
    "logreg.fit(X_train, y_train)\n",
    "w2 = logreg.coef_\n",
    "w1 = logreg.intercept_\n",
    "w = np.append(w1, w2)\n",
    "\n",
    "x_min, x_max = X_train[['feature_1']].min() - .5, X_train[['feature_1']].max() + .5\n",
    "y_min, y_max = X_train[['feature_2']].min() - .5, X_train[['feature_2']].max() + .5\n",
    "h = .02  # step size in the mesh\n",
    "xx, yy = np.meshgrid(np.arange(x_min, x_max, h), np.arange(y_min, y_max, h))\n",
    "\n",
    "def f(x1, x2, w):\n",
    "    return w[0] + w[1]*x1 + w[2]*x2 + w[3]*x1**2 + w[4]*x1*x2 + w[5]*x2**2 + w[6]*x1**3 +w[7]*x1**2*x2 + w[8]*x2**2*x1 + w[9]*x2**3 + w[10]*x2*x1**2 + w[11]*x1*x2**2\n",
    "\n",
    "plt.contour(xx, yy, f(xx, yy, w),0, colors='yellow',linewidths = 3)\n",
    "plt.xlabel('Feature 1')\n",
    "plt.ylabel('Feature 2')\n",
    "plt.xticks(())\n",
    "plt.yticks(())\n",
    "plt.show()"
   ]
  },
  {
   "cell_type": "markdown",
   "metadata": {},
   "source": [
    "# Problem 5"
   ]
  },
  {
   "cell_type": "markdown",
   "metadata": {},
   "source": [
    "## (a)"
   ]
  },
  {
   "cell_type": "code",
   "execution_count": 22,
   "metadata": {},
   "outputs": [],
   "source": [
    "from sklearn.linear_model import LogisticRegression\n",
    "from sklearn.model_selection import train_test_split\n",
    "from sklearn.metrics import confusion_matrix\n",
    "from sklearn.metrics import classification_report\n",
    "from matplotlib import pyplot as plt\n",
    "import pandas as pd\n",
    "import numpy as np"
   ]
  },
  {
   "cell_type": "code",
   "execution_count": 23,
   "metadata": {
    "scrolled": true
   },
   "outputs": [
    {
     "data": {
      "text/plain": [
       "Text(0,0.5,'Feature 2')"
      ]
     },
     "execution_count": 23,
     "metadata": {},
     "output_type": "execute_result"
    },
    {
     "data": {
      "image/png": "[encoded data removed]",
      "text/plain": [
       "<Figure size 432x288 with 1 Axes>"
      ]
     },
     "metadata": {},
     "output_type": "display_data"
    }
   ],
   "source": [
    "# input data\n",
    "data = pd.read_csv(\"dataset_3.csv\")\n",
    "dataset = pd.DataFrame(data)\n",
    "\n",
    "# rename the columns of dataset\n",
    "dataset.columns = ['feature_1', 'feature_2','label']\n",
    "\n",
    "#select subdataset by label 0, 1, 2, 3\n",
    "data0 = dataset[dataset['label'] == 0]\n",
    "data1 = dataset[dataset['label'] == 1]\n",
    "data2 = dataset[dataset['label'] == 2]\n",
    "data3 = dataset[dataset['label'] == 3]\n",
    "\n",
    "#scatter plot\n",
    "p0 = plt.scatter(data0['feature_1'], data0['feature_2'], marker = '*', color = 'b', label = '0', s = 30)\n",
    "p1 = plt.scatter(data1['feature_1'], data1['feature_2'], marker = 'o', color = 'r', label = '1', s = 30)\n",
    "p2 = plt.scatter(data2['feature_1'], data2['feature_2'], marker = 'x', color = 'm', label = '2', s = 30)\n",
    "p3 = plt.scatter(data3['feature_1'], data3['feature_2'], marker = 's', color = 'g', label = '3', s = 30)\n",
    "plt.legend(loc = 'lower left')\n",
    "plt.xlabel('Feature 1')\n",
    "plt.ylabel('Feature 2')"
   ]
  },
  {
   "cell_type": "markdown",
   "metadata": {},
   "source": [
    "## (b)"
   ]
  },
  {
   "cell_type": "code",
   "execution_count": 24,
   "metadata": {},
   "outputs": [],
   "source": [
    "X = dataset[['feature_1','feature_2']]\n",
    "Y = pd.DataFrame(dataset.label)\n",
    "\n",
    "np.random.seed(20190313)\n",
    "\n",
    "X_train, X_test, y_train, y_test = train_test_split(X, Y, test_size = .25, random_state=np.random.randint(10e5))\n",
    "\n",
    "y_tr = y_train\n",
    "y_te = y_test"
   ]
  },
  {
   "cell_type": "markdown",
   "metadata": {},
   "source": [
    "## (c)"
   ]
  },
  {
   "cell_type": "code",
   "execution_count": 25,
   "metadata": {},
   "outputs": [
    {
     "data": {
      "text/plain": [
       "LogisticRegression(C=1.0, class_weight=None, dual=False, fit_intercept=True,\n",
       "          intercept_scaling=1, max_iter=100, multi_class='multinomial',\n",
       "          n_jobs=1, penalty='l2', random_state=None, solver='lbfgs',\n",
       "          tol=0.0001, verbose=0, warm_start=False)"
      ]
     },
     "execution_count": 25,
     "metadata": {},
     "output_type": "execute_result"
    }
   ],
   "source": [
    "# construct new training target vectors, making it binary\n",
    "y_tr0 = y_tr.replace({1:4, 2:4, 3:4})\n",
    "y_tr1 = y_tr.replace({0:4, 2:4, 3:4})\n",
    "y_tr2 = y_tr.replace({0:4, 1:4, 3:4})\n",
    "y_tr3 = y_tr.replace({0:4, 1:4, 2:4})\n",
    "\n",
    "# construct new testing target vectors, making it binary\n",
    "y_te0 = y_te.replace({1:4, 2:4, 3:4})\n",
    "y_te1 = y_te.replace({0:4, 2:4, 3:4})\n",
    "y_te2 = y_te.replace({0:4, 1:4, 3:4})\n",
    "y_te3 = y_te.replace({0:4, 1:4, 2:4})\n",
    "\n",
    "# fit the training data with logistic regression model\n",
    "#y_tr0_new = column_or_1d(y_tr0, warn=True)\n",
    "logreg0 = LogisticRegression(solver='lbfgs', multi_class='multinomial')\n",
    "logreg0.fit(X_train, y_tr0.values.ravel())\n",
    "\n",
    "logreg1 = LogisticRegression(solver='lbfgs', multi_class='multinomial')\n",
    "logreg1.fit(X_train, y_tr1.values.ravel())\n",
    "\n",
    "logreg2 = LogisticRegression(solver='lbfgs', multi_class='multinomial')\n",
    "logreg2.fit(X_train, y_tr2.values.ravel())\n",
    "\n",
    "logreg3 = LogisticRegression(solver='lbfgs', multi_class='multinomial')\n",
    "logreg3.fit(X_train, y_tr3.values.ravel())"
   ]
  },
  {
   "cell_type": "markdown",
   "metadata": {},
   "source": [
    "## (d)"
   ]
  },
  {
   "cell_type": "code",
   "execution_count": 26,
   "metadata": {},
   "outputs": [
    {
     "name": "stdout",
     "output_type": "stream",
     "text": [
      "0.97 0.75 0.72 0.99\n",
      "0.8574999999999999\n"
     ]
    }
   ],
   "source": [
    "# Use score method to get accuracy of model\n",
    "score0 = logreg0.score(X_test, y_te0)\n",
    "score1 = logreg1.score(X_test, y_te1)\n",
    "score2 = logreg2.score(X_test, y_te2)\n",
    "score3 = logreg3.score(X_test, y_te3)\n",
    "\n",
    "avg_score = (score0 + score1 + score2 + score3) / 4 \n",
    "print(score0, score1, score2, score3)\n",
    "print(avg_score)"
   ]
  },
  {
   "cell_type": "markdown",
   "metadata": {},
   "source": [
    "For each class $y_{i} = 0, 1, 2, 3$, the accuracy of logistic regression model is $0.97\\%$, $0.75\\%$, $0.72\\%$, $0.99\\%$. The overall relative accuracy is $0.86\\%$.  "
   ]
  },
  {
   "cell_type": "markdown",
   "metadata": {},
   "source": [
    "## (e)"
   ]
  },
  {
   "cell_type": "code",
   "execution_count": 28,
   "metadata": {},
   "outputs": [
    {
     "name": "stdout",
     "output_type": "stream",
     "text": [
      "             precision    recall  f1-score   support\n",
      "\n",
      "        0.0       0.91      0.87      0.89        23\n",
      "        1.0       0.82      0.78      0.80        18\n",
      "        2.0       0.85      1.00      0.92        17\n",
      "        3.0       1.00      0.95      0.98        22\n",
      "\n",
      "avg / total       0.90      0.90      0.90        80\n",
      "\n"
     ]
    },
    {
     "data": {
      "image/png": "[encoded data removed]",
      "text/plain": [
       "<Figure size 432x288 with 1 Axes>"
      ]
     },
     "metadata": {},
     "output_type": "display_data"
    }
   ],
   "source": [
    "from sklearn.linear_model import LogisticRegression\n",
    "from sklearn.model_selection import train_test_split\n",
    "from sklearn.metrics import confusion_matrix\n",
    "from sklearn.metrics import classification_report\n",
    "from matplotlib import pyplot as plt\n",
    "import pandas as pd\n",
    "import numpy as np\n",
    "\n",
    "# input data\n",
    "data = pd.read_csv(\"dataset_3.csv\")\n",
    "dataset = pd.DataFrame(data)\n",
    "\n",
    "# rename the columns of dataset\n",
    "dataset.columns = ['feature_1', 'feature_2','label']\n",
    "\n",
    "#select subdataset by label 0 or 1\n",
    "data0 = dataset[dataset['label'] == 0]\n",
    "data1 = dataset[dataset['label'] == 1]\n",
    "data2 = dataset[dataset['label'] == 2]\n",
    "data3 = dataset[dataset['label'] == 3]\n",
    "\n",
    "X = dataset[['feature_1','feature_2']]\n",
    "Y = dataset.label\n",
    "\n",
    "X_train, X_test, y_train, y_test = train_test_split(X, Y, test_size = .1, random_state=np.random.randint(10e5))\n",
    "\n",
    "# Use Logistic Regression model and fit the data\n",
    "logreg = LogisticRegression(solver='lbfgs', multi_class='multinomial')\n",
    "logreg.fit(X_train, y_train)\n",
    "\n",
    "#Get the predictive value of Y\n",
    "y_pred = logreg.predict(X_test)\n",
    "\n",
    "print(classification_report(y_test, y_pred))\n",
    "\n",
    "# Plot the decision boundary. For that, we will assign a color to each point in the mesh [x_min, x_max]x[y_min, y_max].\n",
    "X_train = pd.DataFrame(X_train)\n",
    "y_train = pd.DataFrame(y_train)\n",
    "X_train['y_train'] = y_train\n",
    "new_data = X_train\n",
    "new_data0 = new_data[new_data['y_train'] == 0]\n",
    "new_data1 = new_data[new_data['y_train'] == 1]\n",
    "new_data2 = new_data[new_data['y_train'] == 2]\n",
    "new_data3 = new_data[new_data['y_train'] == 3]\n",
    "\n",
    "x_min, x_max = new_data[['feature_1']].min() - .5, new_data[['feature_1']].max() + .5\n",
    "y_min, y_max = new_data[['feature_2']].min() - .5, new_data[['feature_2']].max() + .5\n",
    "h = .02  # step size in the mesh\n",
    "x_min = np.asarray(x_min)\n",
    "x_max = np.asarray(x_max)\n",
    "y_min = np.asarray(y_min)\n",
    "y_max = np.asarray(y_max)\n",
    "xx, yy = np.meshgrid(np.arange(x_min, x_max, h), np.arange(y_min, y_max, h))\n",
    "Z = logreg.predict(np.c_[xx.ravel(), yy.ravel()])\n",
    "\n",
    "# Put the result into a color plot\n",
    "Z = Z.reshape(xx.shape)\n",
    "plt.contour(xx, yy, Z)\n",
    "\n",
    "# Plot also the training points\n",
    "p0 = plt.scatter(data0['feature_1'], data0['feature_2'], marker = '*', color = 'b', label = '0', s = 30)\n",
    "p1 = plt.scatter(data1['feature_1'], data1['feature_2'], marker = 'o', color = 'r', label = '1', s = 30)\n",
    "p2 = plt.scatter(data2['feature_1'], data2['feature_2'], marker = 'x', color = 'm', label = '2', s = 30)\n",
    "p3 = plt.scatter(data3['feature_1'], data3['feature_2'], marker = 's', color = 'g', label = '3', s = 30)\n",
    "plt.xlabel('Feature 1')\n",
    "plt.ylabel('Feature 2')\n",
    "\n",
    "plt.xlim(xx.min(), xx.max())\n",
    "plt.ylim(yy.min(), yy.max())\n",
    "plt.xticks(())\n",
    "plt.yticks(())\n",
    "\n",
    "plt.show()"
   ]
  }
 ],
 "metadata": {
  "author": "",
  "kernelspec": {
   "display_name": "Python 3",
   "language": "python",
   "name": "python3"
  },
  "language_info": {
   "codemirror_mode": {
    "name": "ipython",
    "version": 3
   },
   "file_extension": ".py",
   "mimetype": "text/x-python",
   "name": "python",
   "nbconvert_exporter": "python",
   "pygments_lexer": "ipython3",
   "version": "3.6.5"
  },
  "latex_envs": {
   "LaTeX_envs_menu_present": true,
   "autoclose": false,
   "autocomplete": true,
   "bibliofile": "biblio.bib",
   "cite_by": "apalike",
   "current_citInitial": 1,
   "eqLabelWithNumbers": true,
   "eqNumInitial": 1,
   "hotkeys": {
    "equation": "Ctrl-E",
    "itemize": "Ctrl-I"
   },
   "labels_anchors": false,
   "latex_user_defs": false,
   "report_style_numbering": false,
   "user_envs_cfg": false
  },
  "toc": {
   "base_numbering": 1,
   "nav_menu": {},
   "number_sections": true,
   "sideBar": true,
   "skip_h1_title": false,
   "title_cell": "Table of Contents",
   "title_sidebar": "Contents",
   "toc_cell": false,
   "toc_position": {},
   "toc_section_display": true,
   "toc_window_display": false
  },
  "varInspector": {
   "cols": {
    "lenName": 16,
    "lenType": 16,
    "lenVar": 40
   },
   "kernels_config": {
    "python": {
     "delete_cmd_postfix": "",
     "delete_cmd_prefix": "del ",
     "library": "var_list.py",
     "varRefreshCmd": "print(var_dic_list())"
    },
    "r": {
     "delete_cmd_postfix": ") ",
     "delete_cmd_prefix": "rm(",
     "library": "var_list.r",
     "varRefreshCmd": "cat(var_dic_list()) "
    }
   },
   "types_to_exclude": [
    "module",
    "function",
    "builtin_function_or_method",
    "instance",
    "_Feature"
   ],
   "window_display": false
  }
 },
 "nbformat": 4,
 "nbformat_minor": 2
}
